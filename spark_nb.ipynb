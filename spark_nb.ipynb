{
 "cells": [
  {
   "cell_type": "code",
   "execution_count": 1,
   "id": "0a8ef2b3-e973-44fe-9faf-8b7569cd2184",
   "metadata": {},
   "outputs": [
    {
     "name": "stderr",
     "output_type": "stream",
     "text": [
      "OpenBLAS WARNING - could not determine the L2 cache size on this system, assuming 256k\n"
     ]
    }
   ],
   "source": [
    "from pyspark.sql import SparkSession"
   ]
  },
  {
   "cell_type": "code",
   "execution_count": 2,
   "id": "128b6ac8-fcdd-4187-a16a-24f775178667",
   "metadata": {},
   "outputs": [
    {
     "name": "stderr",
     "output_type": "stream",
     "text": [
      "Setting default log level to \"WARN\".\n",
      "To adjust logging level use sc.setLogLevel(newLevel). For SparkR, use setLogLevel(newLevel).\n",
      "23/10/26 14:31:51 WARN NativeCodeLoader: Unable to load native-hadoop library for your platform... using builtin-java classes where applicable\n"
     ]
    }
   ],
   "source": [
    "spark = SparkSession \\\n",
    "    .builder \\\n",
    "    .appName('test') \\\n",
    "    .master('spark://spark-master:7077') \\\n",
    "    .config('spark.ui.port', '4051') \\\n",
    "    .config('spark.dynamicAllocation.enabled', 'true') \\\n",
    "    .config('spark.eventLog.enabled', 'true') \\\n",
    "    .config('spark.eventLog.dir', '/home/spark-events') \\\n",
    "    .config('spark.executor.cores', 1) \\\n",
    "    .getOrCreate()"
   ]
  },
  {
   "cell_type": "code",
   "execution_count": 3,
   "id": "ecccef5d-a75e-45b3-a75f-0ec34326d02c",
   "metadata": {},
   "outputs": [
    {
     "name": "stdout",
     "output_type": "stream",
     "text": [
      "--2023-10-26 14:31:57--  https://d37ci6vzurychx.cloudfront.net/trip-data/green_tripdata_2023-01.parquet\n",
      "Resolving d37ci6vzurychx.cloudfront.net (d37ci6vzurychx.cloudfront.net)... 18.244.115.202, 18.244.115.220, 18.244.115.167, ...\n",
      "Connecting to d37ci6vzurychx.cloudfront.net (d37ci6vzurychx.cloudfront.net)|18.244.115.202|:443... connected.\n",
      "HTTP request sent, awaiting response... 200 OK\n",
      "Length: 1427002 (1.4M) [binary/octet-stream]\n",
      "Saving to: '/home/data/nyc_taxi_data/green_tripdata/green_tripdata_2023-01.parquet'\n",
      "\n",
      "100%[======================================>] 1,427,002    167KB/s   in 8.4s   \n",
      "\n",
      "2023-10-26 14:32:09 (167 KB/s) - '/home/data/nyc_taxi_data/green_tripdata/green_tripdata_2023-01.parquet' saved [1427002/1427002]\n",
      "\n"
     ]
    }
   ],
   "source": [
    "!mkdir -p /home/data/nyc_taxi_data/green_tripdata && \\\n",
    "    rm -f /home/data/nyc_taxi_data/green_tripdata/* && \\\n",
    "    wget https://d37ci6vzurychx.cloudfront.net/trip-data/green_tripdata_2023-01.parquet -P /home/data/nyc_taxi_data/green_tripdata/"
   ]
  },
  {
   "cell_type": "code",
   "execution_count": 4,
   "id": "459e9a63-de73-4404-8544-945e33cb0a4d",
   "metadata": {},
   "outputs": [
    {
     "name": "stderr",
     "output_type": "stream",
     "text": [
      "                                                                                \r"
     ]
    }
   ],
   "source": [
    "df = spark.read.format('parquet').load('/home/data/nyc_taxi_data/green_tripdata/')"
   ]
  },
  {
   "cell_type": "code",
   "execution_count": 5,
   "id": "6ec0b095-0002-450c-aeb4-9b5ef66570c9",
   "metadata": {},
   "outputs": [
    {
     "name": "stderr",
     "output_type": "stream",
     "text": [
      "                                                                                \r"
     ]
    },
    {
     "data": {
      "text/plain": [
       "68211"
      ]
     },
     "execution_count": 5,
     "metadata": {},
     "output_type": "execute_result"
    }
   ],
   "source": [
    "df.count()"
   ]
  },
  {
   "cell_type": "code",
   "execution_count": 6,
   "id": "ac69614f-29ea-4fcb-aaac-a1511aa849f1",
   "metadata": {},
   "outputs": [
    {
     "name": "stderr",
     "output_type": "stream",
     "text": [
      "[Stage 4:>                                                          (0 + 1) / 1]\r"
     ]
    },
    {
     "name": "stdout",
     "output_type": "stream",
     "text": [
      "+--------+--------------------+---------------------+------------------+----------+------------+------------+---------------+-------------+-----------+-----+-------+----------+------------+---------+---------------------+------------+------------+---------+--------------------+\n",
      "|VendorID|lpep_pickup_datetime|lpep_dropoff_datetime|store_and_fwd_flag|RatecodeID|PULocationID|DOLocationID|passenger_count|trip_distance|fare_amount|extra|mta_tax|tip_amount|tolls_amount|ehail_fee|improvement_surcharge|total_amount|payment_type|trip_type|congestion_surcharge|\n",
      "+--------+--------------------+---------------------+------------------+----------+------------+------------+---------------+-------------+-----------+-----+-------+----------+------------+---------+---------------------+------------+------------+---------+--------------------+\n",
      "|       2| 2023-01-01 00:26:10|  2023-01-01 00:37:11|                 N|       1.0|         166|         143|            1.0|         2.58|       14.9|  1.0|    0.5|      4.03|         0.0|     null|                  1.0|       24.18|         1.0|      1.0|                2.75|\n",
      "|       2| 2023-01-01 00:51:03|  2023-01-01 00:57:49|                 N|       1.0|          24|          43|            1.0|         1.81|       10.7|  1.0|    0.5|      2.64|         0.0|     null|                  1.0|       15.84|         1.0|      1.0|                 0.0|\n",
      "|       2| 2023-01-01 00:35:12|  2023-01-01 00:41:32|                 N|       1.0|         223|         179|            1.0|          0.0|        7.2|  1.0|    0.5|      1.94|         0.0|     null|                  1.0|       11.64|         1.0|      1.0|                 0.0|\n",
      "|       1| 2023-01-01 00:13:14|  2023-01-01 00:19:03|                 N|       1.0|          41|         238|            1.0|          1.3|        6.5|  0.5|    1.5|       1.7|         0.0|     null|                  1.0|        10.2|         1.0|      1.0|                 0.0|\n",
      "|       1| 2023-01-01 00:33:04|  2023-01-01 00:39:02|                 N|       1.0|          41|          74|            1.0|          1.1|        6.0|  0.5|    1.5|       0.0|         0.0|     null|                  1.0|         8.0|         1.0|      1.0|                 0.0|\n",
      "|       2| 2023-01-01 00:53:31|  2023-01-01 01:11:04|                 N|       1.0|          41|         262|            1.0|         2.78|       17.7|  1.0|    0.5|       0.0|         0.0|     null|                  1.0|       22.95|         2.0|      1.0|                2.75|\n",
      "|       1| 2023-01-01 00:09:14|  2023-01-01 00:26:39|                 N|       1.0|         181|          45|            2.0|          3.8|       19.1| 3.75|    1.5|      4.85|         0.0|     null|                  1.0|        29.2|         1.0|      1.0|                2.75|\n",
      "|       2| 2023-01-01 00:11:58|  2023-01-01 00:24:55|                 N|       1.0|          24|          75|            1.0|         1.88|       14.2|  1.0|    0.5|       0.0|         0.0|     null|                  1.0|        16.7|         2.0|      1.0|                 0.0|\n",
      "|       2| 2023-01-01 00:41:29|  2023-01-01 00:46:26|                 N|       1.0|          41|         166|            2.0|         1.11|        7.2|  1.0|    0.5|       1.0|         0.0|     null|                  1.0|        10.7|         1.0|      1.0|                 0.0|\n",
      "|       2| 2023-01-01 00:50:32|  2023-01-01 01:13:42|                 N|       1.0|          24|         140|            1.0|         4.22|       24.7|  1.0|    0.5|       3.0|         0.0|     null|                  1.0|       32.95|         1.0|      1.0|                2.75|\n",
      "|       1| 2023-01-01 00:16:12|  2023-01-01 00:41:43|                 N|       1.0|         255|         234|            2.0|          4.8|       26.8| 3.75|    1.5|       0.0|         0.0|     null|                  1.0|       32.05|         1.0|      1.0|                2.75|\n",
      "|       2| 2023-01-01 00:08:43|  2023-01-01 00:17:08|                 N|       1.0|          75|         140|            1.0|         1.99|       11.4|  1.0|    0.5|      3.33|         0.0|     null|                  1.0|       19.98|         1.0|      1.0|                2.75|\n",
      "|       2| 2023-01-01 00:26:32|  2023-01-01 00:45:31|                 N|       1.0|          75|         148|            1.0|         7.08|       30.3|  1.0|    0.5|       3.0|         0.0|     null|                  1.0|       38.55|         1.0|      1.0|                2.75|\n",
      "|       2| 2023-01-01 00:18:35|  2023-01-01 00:30:09|                 N|       1.0|          66|         255|            1.0|         3.23|       17.7|  1.0|    0.5|      4.04|         0.0|     null|                  1.0|       24.24|         1.0|      1.0|                 0.0|\n",
      "|       2| 2023-01-01 00:39:32|  2023-01-01 01:18:06|                 N|       1.0|         255|         186|            1.0|         5.91|       35.9|  1.0|    0.5|       0.0|         0.0|     null|                  1.0|       41.15|         2.0|      1.0|                2.75|\n",
      "|       1| 2023-01-01 00:49:34|  2023-01-01 01:08:23|                 N|       1.0|         195|         210|            1.0|         11.3|       32.5|  0.5|    1.5|       0.0|         0.0|     null|                  1.0|        34.5|         2.0|      1.0|                 0.0|\n",
      "|       1| 2023-01-01 00:10:45|  2023-01-01 00:19:37|                 N|       5.0|          83|         129|            1.0|          1.3|       15.0|  0.0|    0.0|       0.0|         0.0|     null|                  0.0|        15.0|         1.0|      2.0|                 0.0|\n",
      "|       2| 2023-01-01 00:35:11|  2023-01-01 01:17:35|                 N|       1.0|          97|          68|            1.0|         8.28|       44.3|  1.0|    0.5|       5.0|         0.0|     null|                  1.0|       54.55|         1.0|      1.0|                2.75|\n",
      "|       2| 2023-01-01 00:31:06|  2023-01-01 00:42:23|                 N|       1.0|           7|         260|            1.0|         2.02|       12.8|  1.0|    0.5|       0.0|         0.0|     null|                  1.0|        15.3|         2.0|      1.0|                 0.0|\n",
      "|       2| 2023-01-01 00:14:37|  2023-01-01 00:21:50|                 N|       1.0|          41|          75|            1.0|         0.96|        8.6|  1.0|    0.5|       0.0|         0.0|     null|                  1.0|        11.1|         2.0|      1.0|                 0.0|\n",
      "+--------+--------------------+---------------------+------------------+----------+------------+------------+---------------+-------------+-----------+-----+-------+----------+------------+---------+---------------------+------------+------------+---------+--------------------+\n",
      "only showing top 20 rows\n",
      "\n"
     ]
    },
    {
     "name": "stderr",
     "output_type": "stream",
     "text": [
      "                                                                                \r"
     ]
    }
   ],
   "source": [
    "df.show()"
   ]
  },
  {
   "cell_type": "code",
   "execution_count": 7,
   "id": "4f51a756-fce4-4dcd-abbd-d2960771d36e",
   "metadata": {},
   "outputs": [
    {
     "name": "stdout",
     "output_type": "stream",
     "text": [
      "root\n",
      " |-- VendorID: long (nullable = true)\n",
      " |-- lpep_pickup_datetime: timestamp_ntz (nullable = true)\n",
      " |-- lpep_dropoff_datetime: timestamp_ntz (nullable = true)\n",
      " |-- store_and_fwd_flag: string (nullable = true)\n",
      " |-- RatecodeID: double (nullable = true)\n",
      " |-- PULocationID: long (nullable = true)\n",
      " |-- DOLocationID: long (nullable = true)\n",
      " |-- passenger_count: double (nullable = true)\n",
      " |-- trip_distance: double (nullable = true)\n",
      " |-- fare_amount: double (nullable = true)\n",
      " |-- extra: double (nullable = true)\n",
      " |-- mta_tax: double (nullable = true)\n",
      " |-- tip_amount: double (nullable = true)\n",
      " |-- tolls_amount: double (nullable = true)\n",
      " |-- ehail_fee: integer (nullable = true)\n",
      " |-- improvement_surcharge: double (nullable = true)\n",
      " |-- total_amount: double (nullable = true)\n",
      " |-- payment_type: double (nullable = true)\n",
      " |-- trip_type: double (nullable = true)\n",
      " |-- congestion_surcharge: double (nullable = true)\n",
      "\n"
     ]
    }
   ],
   "source": [
    "df.printSchema()"
   ]
  },
  {
   "cell_type": "code",
   "execution_count": 8,
   "id": "85828c58-257c-470c-bb4d-5543bcdc7c60",
   "metadata": {},
   "outputs": [],
   "source": [
    "spark.stop()"
   ]
  },
  {
   "cell_type": "code",
   "execution_count": null,
   "id": "14c9b977-180c-4e2f-894f-1d17c08a4cc9",
   "metadata": {},
   "outputs": [],
   "source": []
  }
 ],
 "metadata": {
  "kernelspec": {
   "display_name": "Python 3 (ipykernel)",
   "language": "python",
   "name": "python3"
  },
  "language_info": {
   "codemirror_mode": {
    "name": "ipython",
    "version": 3
   },
   "file_extension": ".py",
   "mimetype": "text/x-python",
   "name": "python",
   "nbconvert_exporter": "python",
   "pygments_lexer": "ipython3",
   "version": "3.10.13"
  }
 },
 "nbformat": 4,
 "nbformat_minor": 5
}
