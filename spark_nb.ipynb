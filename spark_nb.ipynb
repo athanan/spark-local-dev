{
 "cells": [
  {
   "cell_type": "code",
   "execution_count": 1,
   "id": "0a8ef2b3-e973-44fe-9faf-8b7569cd2184",
   "metadata": {},
   "outputs": [
    {
     "name": "stderr",
     "output_type": "stream",
     "text": [
      "OpenBLAS WARNING - could not determine the L2 cache size on this system, assuming 256k\n"
     ]
    }
   ],
   "source": [
    "from pyspark.sql import SparkSession"
   ]
  },
  {
   "cell_type": "code",
   "execution_count": 2,
   "id": "128b6ac8-fcdd-4187-a16a-24f775178667",
   "metadata": {},
   "outputs": [
    {
     "name": "stderr",
     "output_type": "stream",
     "text": [
      "Setting default log level to \"WARN\".\n",
      "To adjust logging level use sc.setLogLevel(newLevel). For SparkR, use setLogLevel(newLevel).\n",
      "23/10/26 14:58:32 WARN NativeCodeLoader: Unable to load native-hadoop library for your platform... using builtin-java classes where applicable\n"
     ]
    }
   ],
   "source": [
    "spark = SparkSession \\\n",
    "    .builder \\\n",
    "    .appName('test') \\\n",
    "    .master('spark://spark-master:7077') \\\n",
    "    .config('spark.ui.port', '4051') \\\n",
    "    .config('spark.dynamicAllocation.enabled', 'true') \\\n",
    "    .config('spark.eventLog.enabled', 'true') \\\n",
    "    .config('spark.eventLog.dir', '/home/spark-events') \\\n",
    "    .config('spark.executor.cores', 1) \\\n",
    "    .getOrCreate()"
   ]
  },
  {
   "cell_type": "code",
   "execution_count": null,
   "id": "ecccef5d-a75e-45b3-a75f-0ec34326d02c",
   "metadata": {},
   "outputs": [
    {
     "name": "stdout",
     "output_type": "stream",
     "text": [
      "--2023-10-26 14:58:38--  https://d37ci6vzurychx.cloudfront.net/trip-data/green_tripdata_2023-01.parquet\n",
      "Resolving d37ci6vzurychx.cloudfront.net (d37ci6vzurychx.cloudfront.net)... 13.225.242.58, 13.225.242.37, 13.225.242.202, ...\n",
      "Connecting to d37ci6vzurychx.cloudfront.net (d37ci6vzurychx.cloudfront.net)|13.225.242.58|:443... connected.\n"
     ]
    }
   ],
   "source": [
    "!mkdir -p /home/data/nyc_taxi_data/green_tripdata && \\\n",
    "    rm -f /home/data/nyc_taxi_data/green_tripdata/* && \\\n",
    "    wget https://d37ci6vzurychx.cloudfront.net/trip-data/green_tripdata_2023-01.parquet -P /home/data/nyc_taxi_data/green_tripdata/"
   ]
  },
  {
   "cell_type": "code",
   "execution_count": null,
   "id": "459e9a63-de73-4404-8544-945e33cb0a4d",
   "metadata": {},
   "outputs": [],
   "source": [
    "df = spark.read.format('parquet').load('/home/data/nyc_taxi_data/green_tripdata/')"
   ]
  },
  {
   "cell_type": "code",
   "execution_count": null,
   "id": "6ec0b095-0002-450c-aeb4-9b5ef66570c9",
   "metadata": {},
   "outputs": [],
   "source": [
    "df.count()"
   ]
  },
  {
   "cell_type": "code",
   "execution_count": null,
   "id": "4f51a756-fce4-4dcd-abbd-d2960771d36e",
   "metadata": {},
   "outputs": [],
   "source": [
    "df.printSchema()"
   ]
  },
  {
   "cell_type": "code",
   "execution_count": null,
   "id": "70e76a46-ca01-4373-b4e1-d2c7e0b779ac",
   "metadata": {},
   "outputs": [],
   "source": [
    "from pyspark.sql.functions import date_format\n",
    "\n",
    "# fix error in pandas 2.1.1\n",
    "# Casting to unit-less dtype 'datetime64' is not supported. Pass e.g. 'datetime64[ns]' instead.\n",
    "df = df.withColumn(\"lpep_pickup_datetime\", date_format(\"lpep_pickup_datetime\", \"yyyy-MM-dd HH:mm:ss\"))\n",
    "df = df.withColumn(\"lpep_dropoff_datetime\", date_format(\"lpep_dropoff_datetime\", \"yyyy-MM-dd HH:mm:ss\"))"
   ]
  },
  {
   "cell_type": "code",
   "execution_count": null,
   "id": "14c9b977-180c-4e2f-894f-1d17c08a4cc9",
   "metadata": {},
   "outputs": [],
   "source": [
    "df.limit(10).toPandas()"
   ]
  },
  {
   "cell_type": "code",
   "execution_count": null,
   "id": "7b77a47e-d976-471f-850d-a1de8a141da4",
   "metadata": {},
   "outputs": [],
   "source": [
    "spark.stop()"
   ]
  },
  {
   "cell_type": "code",
   "execution_count": null,
   "id": "d9dbb345-dfc5-4dac-b4bd-0b66939a8776",
   "metadata": {},
   "outputs": [],
   "source": []
  }
 ],
 "metadata": {
  "kernelspec": {
   "display_name": "Python 3 (ipykernel)",
   "language": "python",
   "name": "python3"
  },
  "language_info": {
   "codemirror_mode": {
    "name": "ipython",
    "version": 3
   },
   "file_extension": ".py",
   "mimetype": "text/x-python",
   "name": "python",
   "nbconvert_exporter": "python",
   "pygments_lexer": "ipython3",
   "version": "3.10.13"
  }
 },
 "nbformat": 4,
 "nbformat_minor": 5
}
